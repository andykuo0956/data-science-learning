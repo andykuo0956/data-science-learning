{
 "cells": [
  {
   "cell_type": "markdown",
   "metadata": {},
   "source": [
    "## 決策數 decision tree\n",
    "由許多節點 node 組成，特徵資料會依照每個 node 的判斷往下生長<br>\n",
    "訓練時對於資料的變動很敏感，也容易產生過度適配的問題，導致對於新資料的預測能力不佳<br>\n",
    "https://ithelp.ithome.com.tw/articles/10271143?sc=hot"
   ]
  },
  {
   "cell_type": "code",
   "execution_count": 1,
   "metadata": {},
   "outputs": [],
   "source": [
    "from sklearn.datasets import load_iris"
   ]
  },
  {
   "cell_type": "code",
   "execution_count": 5,
   "metadata": {},
   "outputs": [],
   "source": [
    "from sklearn.model_selection import train_test_split"
   ]
  },
  {
   "cell_type": "code",
   "execution_count": 6,
   "metadata": {},
   "outputs": [],
   "source": [
    "from sklearn.tree import DecisionTreeClassifier"
   ]
  },
  {
   "cell_type": "code",
   "execution_count": 2,
   "metadata": {},
   "outputs": [],
   "source": [
    "dx, dy = load_iris(return_X_y=True) #將特徵資料與標籤資料一起傳回"
   ]
  },
  {
   "cell_type": "code",
   "execution_count": 7,
   "metadata": {},
   "outputs": [
    {
     "name": "stdout",
     "output_type": "stream",
     "text": [
      "[5.1 3.5 1.4 0.2]\n",
      "0\n"
     ]
    },
    {
     "data": {
      "text/plain": [
       "'\\ndx\\n1. 花萼長度\\n2. 花萼寬度\\n3. 花瓣長度\\n4. 花瓣寬度\\n\\ndy\\n0: 山鳶尾\\n1: 變色鳶尾\\n2: 維吉尼雅鳶尾\\n'"
      ]
     },
     "execution_count": 7,
     "metadata": {},
     "output_type": "execute_result"
    }
   ],
   "source": [
    "print(dx[0])\n",
    "print(dy[0])"
   ]
  },
  {
   "cell_type": "markdown",
   "metadata": {},
   "source": [
    "dx\n",
    "1. 花萼長度\n",
    "2. 花萼寬度\n",
    "3. 花瓣長度\n",
    "4. 花瓣寬度\n",
    "\n",
    "dy\n",
    "\n",
    "0. 山鳶尾\n",
    "1. 變色鳶尾\n",
    "2. 維吉尼雅鳶尾"
   ]
  },
  {
   "cell_type": "code",
   "execution_count": 8,
   "metadata": {},
   "outputs": [],
   "source": [
    "dx_train, dx_test, dy_train, dy_test = train_test_split(dx,dy,test_size=0.2, random_state=0)"
   ]
  },
  {
   "cell_type": "code",
   "execution_count": 9,
   "metadata": {},
   "outputs": [],
   "source": [
    "tree = DecisionTreeClassifier()\n",
    "tree.fit(dx_train, dy_train)\n",
    "predictions = tree.predict(dx_test)"
   ]
  },
  {
   "cell_type": "code",
   "execution_count": 10,
   "metadata": {},
   "outputs": [
    {
     "name": "stdout",
     "output_type": "stream",
     "text": [
      "1.0\n",
      "1.0\n"
     ]
    }
   ],
   "source": [
    "print(tree.score(dx_train, dy_train))\n",
    "print(tree.score(dx_test, dy_test))"
   ]
  }
 ],
 "metadata": {
  "kernelspec": {
   "display_name": "Python 3.9.7 64-bit",
   "language": "python",
   "name": "python3"
  },
  "language_info": {
   "codemirror_mode": {
    "name": "ipython",
    "version": 3
   },
   "file_extension": ".py",
   "mimetype": "text/x-python",
   "name": "python",
   "nbconvert_exporter": "python",
   "pygments_lexer": "ipython3",
   "version": "3.9.7"
  },
  "orig_nbformat": 4,
  "vscode": {
   "interpreter": {
    "hash": "aee8b7b246df8f9039afb4144a1f6fd8d2ca17a180786b69acc140d282b71a49"
   }
  }
 },
 "nbformat": 4,
 "nbformat_minor": 2
}
